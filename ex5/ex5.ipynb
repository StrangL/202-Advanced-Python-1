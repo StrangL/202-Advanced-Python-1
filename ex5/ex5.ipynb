{
 "cells": [
  {
   "cell_type": "markdown",
   "id": "00c6adb4",
   "metadata": {},
   "source": [
    "# Лабораторная работа № 306\n",
    "#### Температурная зависимость намагниченности\n"
   ]
  },
  {
   "cell_type": "markdown",
   "id": "6cb102cd",
   "metadata": {},
   "source": [
    "Введём параметры установки:"
   ]
  },
  {
   "cell_type": "code",
   "execution_count": 15,
   "id": "18b5d2ea",
   "metadata": {},
   "outputs": [],
   "source": [
    "d = 20.2 # мм \n",
    "D = 29.8 # мм\n",
    "h = 5.2 # мм\n",
    "N1 = 300\n",
    "N2 = 400\n",
    "R1 = 62 # Ом\n",
    "R2 = 25 # кОм\n",
    "C = 2 # мкФ\n",
    "Cx = 0.17 # В/дел\n",
    "Cy = 0.02 # В/дел\n",
    "S = 25 ## мм*мм"
   ]
  },
  {
   "cell_type": "markdown",
   "id": "6d9f948a",
   "metadata": {},
   "source": [
    "### Упражнение 1. Получение петли гистерзиса и определение магнитных параметров образца при комнатной температуре\n",
    "![title](petlya.png)\n",
    "\n",
    "\n",
    "\n",
    "Рассчитаем значения коэрцитивной силы $H_c$, насыщающего поля $H_s$, остаточной индукции $B_r$, индукции насыщения образца $B_s$ по формулам:\n",
    "$$H=\\frac{n_1C_xx}{R_1}$$\n",
    "&nbsp;\n",
    "$$B=\\frac{R_2CC_yy}{N_2S_{obr}}$$"
   ]
  },
  {
   "cell_type": "code",
   "execution_count": 24,
   "id": "ceb40af5",
   "metadata": {},
   "outputs": [],
   "source": [
    "OA = 3.5\n",
    "OB = 23\n",
    "OC = 11\n",
    "OD = 18"
   ]
  },
  {
   "cell_type": "code",
   "execution_count": 30,
   "id": "60112d53",
   "metadata": {},
   "outputs": [
    {
     "name": "stdout",
     "output_type": "stream",
     "text": [
      "Hc = 2.9 ± 0.8 \n",
      "Br = 0.110 ± 0.011 \n",
      "Bs = 0.180 ± 0.011 \n",
      "Hc = 18.9 ± 0.8\n"
     ]
    }
   ],
   "source": [
    "Hc = N1 * Cx * OA / R1 # А/м\n",
    "Hs = N1 * Cx * OB / R1 # А/м\n",
    "Br = 100 * R2 * C * Cy * OC / (N2 * S) # Тл\n",
    "Bs = 100 * R2 * C * Cy * OD / N2 / S # Тл\n",
    "sig_Hc = 0.8 # А/м\n",
    "sig_Hs = 0.8 # А/м\n",
    "sig_Br = 0.011 # Тл\n",
    "sig_Bs = 0.011 # Тл\n",
    "print(f'Hc = {Hc:.1f} \\u00B1 {sig_Hc:.1f} \\nBr = {Br:.3f} \\u00B1 {sig_Br:.3f} \\nBs = {Bs:.3f} \\u00B1 {sig_Bs:.3f} \\nHc = {Hs:.1f} \\u00B1 {sig_Hs:.1f}')\n"
   ]
  },
  {
   "cell_type": "markdown",
   "id": "3c9a8e1f",
   "metadata": {},
   "source": [
    "### Упражнение 2. Измерение зависимости индукции насыщения ферромагнитного образца от температуры и определение точки Кюри\n",
    "Построить график зависимости $B_s$ от температуры $T$. Эктраполируя кривую $B_s = f(T)$ к значениям $T$, при которых $B = 0$, определить точку Кюри $T_c$.\n",
    "&nbsp;\n",
    "&nbsp;\n",
    "\n",
    "Запишем результаты измерения для температуры $T$ и $OD$."
   ]
  },
  {
   "cell_type": "code",
   "execution_count": 38,
   "id": "9e347c80",
   "metadata": {},
   "outputs": [],
   "source": [
    "import numpy as np\n",
    "OD_arr = np.array([18, 17, 16, 15, 15, 14, 13, 12, 11, 10, 9, 8, 8, 5, 3, 1, 0]) \n",
    "OD_sig = 1 # дел\n",
    "T = np.array([20, 30, 40, 48, 56, 70, 80, 90, 100, 105, 110, 115, 120, 125, 128, 130, 135]) \n",
    "T += 273 # К\n",
    "sig_T = T * 0.01\n",
    "Bs_arr = 100 * R2 * C * Cy * OD_arr / N2 / S # Тл\n",
    "Bs_sig = ([0.011, 0.011, 0.011, 0.011, 0.011, 0.011, 0.011, 0.011, 0.011, 0.010, 0.010, 0.010, 0.010, 0.010, 0.010, 0.010, 0])"
   ]
  },
  {
   "cell_type": "markdown",
   "id": "4a7e9e9f",
   "metadata": {},
   "source": [
    "Построим таблицы данных, полученных экспериментально и посчитанных "
   ]
  },
  {
   "cell_type": "code",
   "execution_count": 41,
   "id": "978a4afd",
   "metadata": {},
   "outputs": [
    {
     "name": "stdout",
     "output_type": "stream",
     "text": [
      "      T  sig_T    Bs  sig_Bs\n",
      "0   293   2.93  0.18   0.011\n",
      "1   303   3.03  0.17   0.011\n",
      "2   313   3.13  0.16   0.011\n",
      "3   321   3.21  0.15   0.011\n",
      "4   329   3.29  0.15   0.011\n",
      "5   343   3.43  0.14   0.011\n",
      "6   353   3.53  0.13   0.011\n",
      "7   363   3.63  0.12   0.011\n",
      "8   373   3.73  0.11   0.011\n",
      "9   378   3.78  0.10   0.010\n",
      "10  383   3.83  0.09   0.010\n",
      "11  388   3.88  0.08   0.010\n",
      "12  393   3.93  0.08   0.010\n",
      "13  398   3.98  0.05   0.010\n",
      "14  401   4.01  0.03   0.010\n",
      "15  403   4.03  0.01   0.010\n",
      "16  408   4.08  0.00   0.000\n"
     ]
    }
   ],
   "source": [
    "import pandas as pd\n",
    "data = pd.DataFrame({'T' : T, 'sig_T' : sig_T, 'Bs' : Bs_arr, 'sig_Bs' : Bs_sig})\n",
    "print(data)"
   ]
  },
  {
   "cell_type": "markdown",
   "id": "14e2aef0",
   "metadata": {},
   "source": [
    "Построим график зависимости $B_s = f(T)$"
   ]
  },
  {
   "cell_type": "code",
   "execution_count": 57,
   "id": "bf2315cf",
   "metadata": {},
   "outputs": [
    {
     "data": {
      "image/png": "[encoded data removed]",
      "text/plain": [
       "<Figure size 720x720 with 1 Axes>"
      ]
     },
     "metadata": {
      "needs_background": "light"
     },
     "output_type": "display_data"
    }
   ],
   "source": [
    "import matplotlib.pyplot as plt\n",
    "plt.figure(figsize=(10, 10))\n",
    "plt.errorbar(T, Bs_arr, xerr=sig_T, yerr=Bs_sig, color='black', fmt='-o')\n",
    "plt.ylabel('Bs, Тл', color='black')\n",
    "plt.xlabel('T, К', color='black')\n",
    "plt.show()"
   ]
  },
  {
   "cell_type": "markdown",
   "id": "b3f23871",
   "metadata": {},
   "source": [
    "Нам нужно воспользоваться методом наименьших квадратов в том месте, где график является линейным. Выделим под эту часть графика отдельный массив."
   ]
  },
  {
   "cell_type": "code",
   "execution_count": 86,
   "id": "482441c6",
   "metadata": {},
   "outputs": [
    {
     "name": "stdout",
     "output_type": "stream",
     "text": [
      "a = -0.006828193832599157 Тл/К, b = 2.765242290748913 Тл/К\n"
     ]
    }
   ],
   "source": [
    "from numpy import linalg as LA\n",
    "Bs_mnk = Bs_arr[12:16]\n",
    "T_mnk = T[12:16]\n",
    "A = np.vstack([T_mnk, np.ones(len(T_mnk))]).T\n",
    "a, b = np.linalg.lstsq(A, Bs_mnk, rcond=None)[0]\n",
    "print(f'a = {a} Тл/К, b = {b} Тл/К')"
   ]
  },
  {
   "cell_type": "markdown",
   "id": "dabe02ac",
   "metadata": {},
   "source": [
    "С помощью полученных коэффициентов вычислим температуру Кюри $$T_c=\\frac{b}{a}$$"
   ]
  },
  {
   "cell_type": "code",
   "execution_count": 83,
   "id": "a7336327",
   "metadata": {},
   "outputs": [
    {
     "name": "stdout",
     "output_type": "stream",
     "text": [
      "Tc = 131.97 К\n"
     ]
    }
   ],
   "source": [
    "Tc = np.abs(b / a) - 273\n",
    "print(f'Tc = {Tc:.2f} К')"
   ]
  }
 ],
 "metadata": {
  "kernelspec": {
   "display_name": "Python 3 (ipykernel)",
   "language": "python",
   "name": "python3"
  },
  "language_info": {
   "codemirror_mode": {
    "name": "ipython",
    "version": 3
   },
   "file_extension": ".py",
   "mimetype": "text/x-python",
   "name": "python",
   "nbconvert_exporter": "python",
   "pygments_lexer": "ipython3",
   "version": "3.9.5"
  }
 },
 "nbformat": 4,
 "nbformat_minor": 5
}
